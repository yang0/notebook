{
 "cells": [
  {
   "cell_type": "markdown",
   "metadata": {},
   "source": [
    "**spark和jupyter集成参考：**\n",
    "https://blog.csdn.net/a2639491403/article/details/79841650\n",
    "spark配置安装，和jupyter的安装\n",
    "\n",
    "**教程：**\n",
    "https://www.cnblogs.com/muchen/p/6881823.html\n",
    "第一篇：使用Spark探索经典数据集MovieLens"
   ]
  },
  {
   "cell_type": "code",
   "execution_count": 5,
   "metadata": {},
   "outputs": [
    {
     "name": "stdout",
     "output_type": "stream",
     "text": [
      "/home/yang0/installer/spark-2.4.3-bin-hadoop2.7\n",
      "Welcome to\n",
      "      ____              __\n",
      "     / __/__  ___ _____/ /__\n",
      "    _\\ \\/ _ \\/ _ `/ __/  '_/\n",
      "   /__ / .__/\\_,_/_/ /_/\\_\\   version 2.4.3\n",
      "      /_/\n",
      "\n",
      "Using Python version 3.6.5 (default, Jul 11 2019 14:32:02)\n",
      "SparkSession available as 'spark'.\n"
     ]
    }
   ],
   "source": [
    "import os\n",
    "import sys\n",
    "spark_home = os.environ.get('SPARK_HOME',None)\n",
    "print(spark_home)\n",
    "sys.path.insert(0,os.path.join(spark_home,'python'))\n",
    "sys.path.insert(0,os.path.join(spark_home,'python/lib/py4j-0.10.4-src.zip'))\n",
    "\n",
    "exec(open(os.path.join(spark_home,'python/pyspark/shell.py')).read())\n"
   ]
  },
  {
   "cell_type": "code",
   "execution_count": 7,
   "metadata": {},
   "outputs": [
    {
     "name": "stdout",
     "output_type": "stream",
     "text": [
      "Using matplotlib backend: agg\n",
      "Populating the interactive namespace from numpy and matplotlib\n"
     ]
    }
   ],
   "source": [
    "%pylab"
   ]
  },
  {
   "cell_type": "code",
   "execution_count": 54,
   "metadata": {
    "scrolled": true
   },
   "outputs": [
    {
     "name": "stdout",
     "output_type": "stream",
     "text": [
      "1|24|M|technician|85711\n",
      "用户数: 943, 性别数: 2, 职业数: 21, 邮编数: 795\n"
     ]
    }
   ],
   "source": [
    "# 载入数据集\n",
    "user_data = sc.textFile(\"./ml-100k/u.user\")\n",
    "# 展示首行记录\n",
    "print(user_data.first())\n",
    "# 以' | '切分每列，返回新的用户RDD\n",
    "user_fields = user_data.map(lambda line: line.split(\"|\"))\n",
    "# 统计用户数\n",
    "num_users = user_fields.map(lambda fields: fields[0]).count()\n",
    "# 统计性别数\n",
    "num_genders = user_fields.map(lambda fields: fields[2]).distinct().count()\n",
    "# 统计职业数\n",
    "num_occupations = user_fields.map(lambda fields: fields[3]).distinct().count()\n",
    "# 统计邮编数\n",
    "num_zipcodes = user_fields.map(lambda fields: fields[4]).distinct().count()\n",
    "# 返回结果\n",
    "print (\"用户数: %d, 性别数: %d, 职业数: %d, 邮编数: %d\" % (num_users, num_genders, num_occupations, num_zipcodes))"
   ]
  },
  {
   "cell_type": "markdown",
   "metadata": {},
   "source": [
    "u.user其中各列数据分别为：\n",
    "用户id | 用户年龄 | 用户性别 | 用户职业 | 用户邮政编码"
   ]
  },
  {
   "cell_type": "code",
   "execution_count": 37,
   "metadata": {},
   "outputs": [
    {
     "name": "stdout",
     "output_type": "stream",
     "text": [
      "[24, 53, 23, 24, 33, 42, 57, 36, 29, 53, 39, 28, 47, 45, 49, 21, 30, 35, 40, 42, 26, 25, 30, 21, 39, 49, 40, 32, 41, 7, 24, 28, 23, 38, 20, 19, 23, 28, 41, 38, 33, 30, 29, 26, 29, 27, 53, 45, 23, 21, 28, 18, 26, 22, 37, 25, 16, 27, 49, 50, 36, 27, 31, 32, 51, 23, 17, 19, 24, 27, 39, 48, 24, 39, 24, 20, 30, 26, 39, 34, 21, 50, 40, 32, 51, 26, 47, 49, 43, 60, 55, 32, 48, 26, 31, 25, 43, 49, 20, 36, 15, 38, 26, 27, 24, 61, 39, 44, 29, 19, 57, 30, 47, 27, 31, 40, 20, 21, 32, 47, 54, 32, 48, 34, 30, 28, 33, 24, 36, 20, 59, 24, 53, 31, 23, 51, 50, 46, 20, 30, 49, 13, 42, 53, 31, 45, 40, 33, 35, 20, 38, 33, 25, 25, 32, 25, 57, 50, 23, 27, 50, 25, 49, 47, 20, 47, 37, 48, 52, 53, 48, 55, 56, 30, 26, 28, 20, 26, 15, 22, 26, 36, 33, 37, 53, 39, 26, 42, 32, 30, 33, 42, 29, 38, 42, 49, 55, 21, 30, 40, 27, 41, 25, 52, 47, 14, 39, 43, 33, 39, 66, 49, 33, 26, 35, 22, 22, 37, 32, 30, 19, 29, 19, 31, 51, 28, 46, 21, 29, 28, 48, 45, 38, 60, 37, 44, 49, 42, 39, 23, 26, 33, 33, 28, 22, 19, 28, 25, 25, 29, 28, 42, 26, 44, 23, 35, 17, 19, 21, 40, 28, 19, 41, 36, 26, 62, 23, 24, 31, 18, 51, 33, 50, 20, 38, 21, 35, 37, 33, 30, 15, 22, 28, 40, 25, 27, 21, 34, 11, 40, 19, 35, 24, 34, 31, 43, 29, 44, 29, 26, 24, 42, 19, 22, 23, 45, 25, 60, 40, 37, 32, 48, 41, 20, 31, 43, 22, 65, 38, 19, 49, 20, 21, 21, 48, 41, 22, 51, 48, 35, 33, 20, 47, 32, 45, 23, 37, 39, 35, 46, 17, 25, 43, 30, 28, 34, 18, 24, 68, 32, 61, 37, 25, 29, 25, 32, 26, 40, 22, 51, 22, 35, 20, 63, 29, 20, 17, 18, 24, 52, 36, 25, 24, 36, 17, 28, 22, 35, 44, 32, 33, 45, 42, 52, 36, 36, 33, 31, 44, 42, 23, 52, 19, 25, 43, 57, 17, 40, 25, 33, 46, 30, 37, 29, 22, 52, 29, 23, 48, 30, 34, 25, 55, 24, 39, 20, 27, 55, 37, 53, 38, 26, 64, 36, 19, 55, 51, 28, 27, 38, 24, 22, 27, 16, 24, 30, 27, 51, 23, 30, 50, 22, 35, 51, 21, 57, 30, 23, 23, 35, 16, 35, 18, 57, 48, 24, 33, 47, 22, 44, 15, 19, 48, 60, 32, 22, 29, 28, 60, 24, 10, 24, 29, 51, 30, 28, 23, 29, 30, 57, 73, 18, 29, 27, 44, 39, 22, 48, 55, 29, 43, 57, 22, 38, 29, 21, 20, 26, 42, 28, 22, 22, 50, 40, 27, 46, 18, 27, 23, 34, 22, 29, 43, 27, 53, 53, 24, 49, 22, 62, 19, 36, 50, 56, 27, 30, 33, 18, 47, 29, 30, 20, 43, 20, 45, 38, 36, 31, 53, 28, 19, 21, 33, 44, 27, 36, 50, 51, 42, 16, 25, 45, 58, 32, 29, 35, 30, 56, 69, 32, 23, 54, 39, 65, 40, 20, 24, 39, 34, 26, 34, 51, 68, 56, 33, 48, 36, 31, 32, 16, 37, 17, 44, 25, 69, 20, 26, 18, 21, 50, 57, 18, 31, 46, 25, 20, 23, 40, 22, 34, 19, 47, 21, 39, 33, 28, 49, 22, 13, 22, 46, 36, 37, 54, 38, 55, 27, 15, 17, 18, 17, 25, 50, 19, 27, 23, 24, 13, 46, 26, 18, 18, 35, 39, 22, 47, 30, 45, 42, 20, 24, 18, 39, 51, 27, 17, 40, 43, 20, 42, 65, 35, 31, 27, 50, 48, 26, 33, 31, 26, 28, 55, 26, 30, 25, 44, 35, 29, 37, 30, 21, 54, 51, 13, 34, 30, 20, 50, 20, 33, 44, 23, 42, 28, 32, 32, 31, 37, 25, 35, 34, 34, 43, 60, 26, 55, 25, 28, 44, 17, 51, 37, 26, 51, 21, 23, 56, 26, 21, 19, 22, 22, 42, 26, 21, 36, 24, 42, 37, 49, 24, 50, 26, 31, 21, 25, 25, 58, 19, 31, 41, 28, 44, 25, 29, 48, 30, 35, 35, 25, 25, 35, 31, 35, 42, 25, 19, 28, 33, 28, 24, 60, 56, 59, 44, 30, 26, 27, 20, 35, 17, 32, 27, 27, 31, 42, 70, 29, 39, 28, 26, 50, 20, 30, 46, 30, 63, 34, 31, 49, 20, 21, 30, 47, 32, 36, 18, 51, 29, 27, 31, 40, 22, 32, 30, 32, 44, 40, 49, 25, 22, 35, 70, 39, 27, 27, 41, 45, 50, 55, 40, 22, 14, 30, 32, 34, 19, 28, 59, 22, 37, 29, 27, 31, 44, 28, 23, 28, 48, 46, 21, 24, 34, 26, 44, 44, 36, 23, 38, 39, 45, 40, 35, 22, 64, 27, 29, 46, 15, 34, 18, 46, 49, 29, 53, 43, 35, 63, 18, 70, 38, 25, 17, 27, 25, 45, 24, 21, 30, 22, 31, 19, 48, 36, 24, 41, 30, 50, 33, 13, 39, 35, 49, 44, 30, 20, 14, 41, 24, 32, 51, 36, 25, 47, 31, 28, 30, 23, 32, 60, 38, 45, 28, 17, 27, 45, 25, 44, 50, 28, 37, 51, 27, 44, 50, 27, 22, 40, 25, 30, 20, 29, 21, 29, 18, 49, 23, 21, 44, 28, 60, 58, 28, 61, 42, 24, 48, 38, 26, 32, 20, 48, 22]\n"
     ]
    },
    {
     "data": {
      "text/plain": [
       "(array([0.00064269, 0.00192808, 0.00449886, 0.0279572 , 0.02956393,\n",
       "        0.03374144, 0.04563129, 0.02538642, 0.02088756, 0.01863813,\n",
       "        0.02088756, 0.01606735, 0.0170314 , 0.01863813, 0.00674829,\n",
       "        0.00482021, 0.0054629 , 0.00192808, 0.00128539, 0.00128539]),\n",
       " array([ 7. , 10.3, 13.6, 16.9, 20.2, 23.5, 26.8, 30.1, 33.4, 36.7, 40. ,\n",
       "        43.3, 46.6, 49.9, 53.2, 56.5, 59.8, 63.1, 66.4, 69.7, 73. ]),\n",
       " <a list of 20 Patch objects>)"
      ]
     },
     "execution_count": 37,
     "metadata": {},
     "output_type": "execute_result"
    },
    {
     "data": {
      "image/png": "[encoded data removed]",
      "text/plain": [
       "<Figure size 432x288 with 1 Axes>"
      ]
     },
     "metadata": {
      "needs_background": "light"
     },
     "output_type": "display_data"
    }
   ],
   "source": [
    "# 获取用户年龄RDD，并将其落地到驱动程序\n",
    "ages = user_fields.map(lambda x: int(x[1])).collect()  # 获取一个list\n",
    "\n",
    "# 绘制用户年龄直方图\n",
    "# ages: 指定要绘制直方图的数据；  bins: 指定直方图条形的个数； density:是否将直方图的频数转换成频率? 没懂；\n",
    "hist(ages, bins=20, color='lightblue', density=True)"
   ]
  },
  {
   "cell_type": "code",
   "execution_count": 21,
   "metadata": {},
   "outputs": [
    {
     "name": "stdout",
     "output_type": "stream",
     "text": [
      "count_by_occupation: [('other', 105), ('executive', 32), ('administrator', 79), ('student', 196), ('educator', 95), ('programmer', 66), ('homemaker', 7), ('artist', 28), ('engineer', 67), ('none', 9), ('retired', 14), ('doctor', 7), ('technician', 27), ('writer', 45), ('lawyer', 12), ('scientist', 31), ('entertainment', 18), ('librarian', 51), ('marketing', 26), ('healthcare', 16), ('salesman', 12)]\n",
      "['other' 'executive' 'administrator' 'student' 'educator' 'programmer'\n",
      " 'homemaker' 'artist' 'engineer' 'none' 'retired' 'doctor' 'technician'\n",
      " 'writer' 'lawyer' 'scientist' 'entertainment' 'librarian' 'marketing'\n",
      " 'healthcare' 'salesman']\n",
      "[105  32  79 196  95  66   7  28  67   9  14   7  27  45  12  31  18  51\n",
      "  26  16  12]\n",
      "['doctor' 'homemaker' 'none' 'salesman' 'lawyer' 'retired' 'healthcare'\n",
      " 'entertainment' 'marketing' 'technician' 'artist' 'scientist' 'executive'\n",
      " 'writer' 'librarian' 'programmer' 'engineer' 'administrator' 'educator'\n",
      " 'other' 'student']\n",
      "=======\n",
      "[ 0.5  1.5  2.5  3.5  4.5  5.5  6.5  7.5  8.5  9.5 10.5 11.5 12.5 13.5\n",
      " 14.5 15.5 16.5 17.5 18.5 19.5 20.5]\n"
     ]
    },
    {
     "data": {
      "text/plain": [
       "<BarContainer object of 21 artists>"
      ]
     },
     "execution_count": 21,
     "metadata": {},
     "output_type": "execute_result"
    },
    {
     "data": {
      "image/png": "[encoded data removed]",
      "text/plain": [
       "<Figure size 432x288 with 1 Axes>"
      ]
     },
     "metadata": {
      "needs_background": "light"
     },
     "output_type": "display_data"
    }
   ],
   "source": [
    "# 并行统计各职业人数的个数，返回职业统计RDD后落地\n",
    "count_by_occupation = user_fields.map(lambda fields: (fields[3], 1)).reduceByKey(lambda x, y: x + y).collect()\n",
    "\n",
    "print(\"count_by_occupation: %s\" % count_by_occupation)\n",
    "\n",
    "# 生成x/y坐标轴\n",
    "x_axis1 = np.array([c[0] for c in count_by_occupation])\n",
    "y_axis1 = np.array([c[1] for c in count_by_occupation])\n",
    "x_axis = x_axis1[np.argsort(y_axis1)] # 按照Y轴的升序，对x轴的标签进行排列\n",
    "y_axis = y_axis1[np.argsort(y_axis1)]\n",
    "\n",
    "print(x_axis1)\n",
    "print(y_axis1)\n",
    "print(x_axis)\n",
    "\n",
    "# 生成x轴标签\n",
    "pos = np.arange(len(x_axis))\n",
    "width = 1.0\n",
    "# 初始化一个画布\n",
    "ax = plt.axes()\n",
    "print(\"=======\")\n",
    "print(pos + (width / 2))\n",
    "ax.set_xticks(pos + (width / 2))\n",
    "ax.set_xticklabels(x_axis)\n",
    "\n",
    "# 绘制职业人数条状图\n",
    "plt.xticks(rotation=30)\n",
    "plt.bar(pos, y_axis, width, color='lightblue')"
   ]
  },
  {
   "cell_type": "markdown",
   "metadata": {},
   "source": [
    "**reduceByKey:**\n",
    "reduceByKey会寻找相同key的数据，当找到这样的两条记录时会对其value(分别记为x,y)做(x,y) => x+y的处理，即只保留求和之后的数据作为value。反复执行这个操作直至每个key只留下一条记录。\n",
    "\n",
    "**np.array:**\n",
    "Python中提供了list容器，可以当作数组使用。但列表中的元素可以是任何对象，因此列表中保存的是对象的指针，这样一来，为了保存一个简单的列表[1,2,3]。就需要三个指针和三个整数对象。对于数值运算来说，这种结构显然不够高效。\n",
    "    Python虽然也提供了array模块，但其只支持一维数组，不支持多维数组(在TensorFlow里面偏向于矩阵理解)，也没有各种运算函数。因而不适合数值运算。NumPy的出现弥补了这些不足。\n",
    "a = np.array([2,3,4])\n",
    "b = np.array([2.0,3.0,4.0])\n",
    "c = np.array([[1.0,2.0],[3.0,4.0]])\n",
    "d = np.array([[1,2],[3,4]],dtype=complex) # 指定数据类型\n",
    "\n",
    "**np.argsort:**\n",
    "1.先定义一个array数据\n",
    "1 import numpy as np\n",
    "2 x=np.array([1,4,3,-1,6,9])\n",
    "\n",
    "2.现在我们可以看看argsort()函数的具体功能是什么：\n",
    "x.argsort()\n",
    "输出定义为y=array([3,0,2,1,4,5])。\n",
    "我们发现argsort()函数是将x中的元素从小到大排列，提取其对应的index(索引)，然后输出到y。例如：x[3]=-1最小，所以y[0]=3,x[5]=9最大，所以y[5]=5。\n",
    "\n",
    "**np.arrange:**\n",
    ">>> np.arange(1, 5)\n",
    "array([1, 2, 3, 4])\n",
    ">>>np.arange(1, 5, .5)\n",
    "array([ 1. ,  1.5,  2. ,  2.5,  3. ,  3.5,  4. ,  4.5])"
   ]
  },
  {
   "cell_type": "code",
   "execution_count": 24,
   "metadata": {},
   "outputs": [
    {
     "name": "stdout",
     "output_type": "stream",
     "text": [
      "defaultdict(<class 'int'>, {'technician': 27, 'other': 105, 'writer': 45, 'executive': 32, 'administrator': 79, 'student': 196, 'lawyer': 12, 'educator': 95, 'scientist': 31, 'entertainment': 18, 'programmer': 66, 'librarian': 51, 'homemaker': 7, 'artist': 28, 'engineer': 67, 'marketing': 26, 'none': 9, 'healthcare': 16, 'retired': 14, 'salesman': 12, 'doctor': 7})\n"
     ]
    }
   ],
   "source": [
    "count_by_occupation2 = user_fields.map(lambda fields: fields[3]).countByValue()\n",
    "print(count_by_occupation2)"
   ]
  },
  {
   "cell_type": "markdown",
   "metadata": {},
   "source": [
    " countByValue是Spark提供的便捷函数，它会自动统计每个Key下面的Value个数，并以字典的格式返回。"
   ]
  },
  {
   "cell_type": "markdown",
   "metadata": {},
   "source": [
    "**探索电影数据**"
   ]
  },
  {
   "cell_type": "code",
   "execution_count": 27,
   "metadata": {},
   "outputs": [
    {
     "name": "stdout",
     "output_type": "stream",
     "text": [
      "1|Toy Story (1995)|01-Jan-1995||http://us.imdb.com/M/title-exact?Toy%20Story%20(1995)|0|0|0|1|1|1|0|0|0|0|0|0|0|0|0|0|0|0|0\n"
     ]
    }
   ],
   "source": [
    "# 载入数据集\n",
    "movie_data = sc.textFile(\"./ml-100k/u.item\")\n",
    "# 展示首行记录\n",
    "print(movie_data.first())"
   ]
  },
  {
   "cell_type": "markdown",
   "metadata": {},
   "source": [
    "影片id | 影片名 | 影片发行日期 | 影片链接 | (后面几列先不去管)"
   ]
  },
  {
   "cell_type": "code",
   "execution_count": 28,
   "metadata": {},
   "outputs": [
    {
     "name": "stdout",
     "output_type": "stream",
     "text": [
      "1682\n"
     ]
    }
   ],
   "source": [
    "# 查看下有多少部电影吧：\n",
    "num_movies = movie_data.count()\n",
    "print(num_movies)"
   ]
  },
  {
   "cell_type": "code",
   "execution_count": 33,
   "metadata": {},
   "outputs": [
    {
     "name": "stdout",
     "output_type": "stream",
     "text": [
      "PythonRDD[65] at RDD at PythonRDD.scala:53\n"
     ]
    }
   ],
   "source": [
    "# 过滤掉没有发行时间信息的记录：\n",
    "\n",
    "# 输入影片的发行时间字段，若非法则返回1900\n",
    "def convert_year(x):\n",
    "    try:\n",
    "        return int(x[-4:])\n",
    "    except:\n",
    "        return 1900\n",
    " \n",
    "# 以' | '切分每列，返回影片RDD\n",
    "movie_fields = movie_data.map(lambda lines: lines.split(\"|\"))\n",
    "print(movie_fields)\n",
    "\n",
    "# 生成新的影片发行年份RDD，并将空/异常的年份置为1900，\n",
    "years = movie_fields.map(lambda fields: fields[2]).map(lambda x: convert_year(x))\n",
    "\n",
    "# 过滤掉影片发行年份RDD中空/异常的记录\n",
    "years_filtered = years.filter(lambda x: x != 1900)"
   ]
  },
  {
   "cell_type": "code",
   "execution_count": 52,
   "metadata": {},
   "outputs": [
    {
     "name": "stdout",
     "output_type": "stream",
     "text": [
      "[219, 355, 214, 5, 4, 126, 5, 13, 24, 37, 22, 4, 286, 12, 3, 3, 3, 7, 5, 6, 4, 7, 7, 11, 4, 9, 13, 15, 15, 8, 8, 7, 2, 8, 5, 8, 5, 6, 65, 8, 7, 2, 5, 5, 2, 4, 6, 9, 4, 5, 4, 4, 2, 2, 5, 5, 3, 4, 4, 3, 4, 5, 2, 4, 1, 3, 1, 1, 5, 1, 1]\n",
      "71\n"
     ]
    },
    {
     "data": {
      "text/plain": [
       "(array([0.11581921, 0.04237288, 0.01694915, 0.        , 0.00564972,\n",
       "        0.        , 0.        , 0.00282486, 0.        , 0.        ,\n",
       "        0.        , 0.        , 0.00282486, 0.        , 0.        ,\n",
       "        0.        , 0.        , 0.        , 0.        , 0.        ,\n",
       "        0.        , 0.        , 0.        , 0.        , 0.        ,\n",
       "        0.00282486, 0.        , 0.        , 0.        , 0.        ,\n",
       "        0.        , 0.        , 0.        , 0.        , 0.        ,\n",
       "        0.        , 0.        , 0.        , 0.        , 0.        ,\n",
       "        0.        , 0.        , 0.00282486, 0.00282486, 0.        ,\n",
       "        0.        , 0.        , 0.        , 0.        , 0.        ,\n",
       "        0.        , 0.        , 0.        , 0.        , 0.        ,\n",
       "        0.        , 0.        , 0.00282486, 0.        , 0.        ,\n",
       "        0.        , 0.        , 0.        , 0.        , 0.        ,\n",
       "        0.        , 0.        , 0.        , 0.        , 0.        ,\n",
       "        0.00282486]),\n",
       " array([  1.        ,   5.98591549,  10.97183099,  15.95774648,\n",
       "         20.94366197,  25.92957746,  30.91549296,  35.90140845,\n",
       "         40.88732394,  45.87323944,  50.85915493,  55.84507042,\n",
       "         60.83098592,  65.81690141,  70.8028169 ,  75.78873239,\n",
       "         80.77464789,  85.76056338,  90.74647887,  95.73239437,\n",
       "        100.71830986, 105.70422535, 110.69014085, 115.67605634,\n",
       "        120.66197183, 125.64788732, 130.63380282, 135.61971831,\n",
       "        140.6056338 , 145.5915493 , 150.57746479, 155.56338028,\n",
       "        160.54929577, 165.53521127, 170.52112676, 175.50704225,\n",
       "        180.49295775, 185.47887324, 190.46478873, 195.45070423,\n",
       "        200.43661972, 205.42253521, 210.4084507 , 215.3943662 ,\n",
       "        220.38028169, 225.36619718, 230.35211268, 235.33802817,\n",
       "        240.32394366, 245.30985915, 250.29577465, 255.28169014,\n",
       "        260.26760563, 265.25352113, 270.23943662, 275.22535211,\n",
       "        280.21126761, 285.1971831 , 290.18309859, 295.16901408,\n",
       "        300.15492958, 305.14084507, 310.12676056, 315.11267606,\n",
       "        320.09859155, 325.08450704, 330.07042254, 335.05633803,\n",
       "        340.04225352, 345.02816901, 350.01408451, 355.        ]),\n",
       " <a list of 71 Patch objects>)"
      ]
     },
     "execution_count": 52,
     "metadata": {},
     "output_type": "execute_result"
    },
    {
     "data": {
      "image/png": "[encoded data removed]",
      "text/plain": [
       "<Figure size 432x288 with 1 Axes>"
      ]
     },
     "metadata": {
      "needs_background": "light"
     },
     "output_type": "display_data"
    }
   ],
   "source": [
    "#统计影片的年龄分布：\n",
    "\n",
    "# 生成影片年龄RDD，然后统计不同年龄的影片数并落地\n",
    "movie_ages = years_filtered.map(lambda yr: 1998-yr).countByValue()\n",
    "\n",
    "# 获得影片数\n",
    "values = list(movie_ages.values())\n",
    "print(values)\n",
    "\n",
    "# 获得年龄\n",
    "bins = list(movie_ages.keys())\n",
    "a = len(bins)\n",
    "print(a)\n",
    "\n",
    "# 绘制电影年龄分布图\n",
    "hist(values, bins=a, color='lightblue', density=True)"
   ]
  },
  {
   "cell_type": "markdown",
   "metadata": {},
   "source": [
    "**探索评级数据**"
   ]
  },
  {
   "cell_type": "code",
   "execution_count": 53,
   "metadata": {},
   "outputs": [
    {
     "name": "stdout",
     "output_type": "stream",
     "text": [
      "196\t242\t3\t881250949\n"
     ]
    }
   ],
   "source": [
    "# 载入数据集\n",
    "rating_data_raw = sc.textFile(\"./ml-100k/u.data\")\n",
    "# 展示首行记录\n",
    "print(rating_data_raw.first())"
   ]
  },
  {
   "cell_type": "markdown",
   "metadata": {},
   "source": [
    "u.data 其中各列数据分别为：\n",
    "用户id | 影片id | 评分值 | 时间戳(timestamp格式)"
   ]
  },
  {
   "cell_type": "code",
   "execution_count": 58,
   "metadata": {
    "scrolled": true
   },
   "outputs": [
    {
     "name": "stdout",
     "output_type": "stream",
     "text": [
      "100000\n"
     ]
    }
   ],
   "source": [
    "num_ratings = rating_data_raw .count()\n",
    "print(num_ratings) #先看看有多少评分记录吧"
   ]
  },
  {
   "cell_type": "code",
   "execution_count": 60,
   "metadata": {},
   "outputs": [
    {
     "name": "stdout",
     "output_type": "stream",
     "text": [
      "最低评分: 1\n",
      "最高评分: 5\n",
      "平均评分: 3.53\n",
      "中位评分: 4\n",
      "平均每个用户打分(次数): 106.04\n",
      "平均每部电影评分(次数): 59.45\n"
     ]
    }
   ],
   "source": [
    "# 获取评分RDD\n",
    "rating_data = rating_data_raw.map(lambda line: line.split(\"\\t\"))\n",
    "ratings = rating_data.map(lambda fields: int(fields[2]))\n",
    "# 计算最大/最小评分\n",
    "max_rating = ratings.reduce(lambda x, y: max(x, y))\n",
    "min_rating = ratings.reduce(lambda x, y: min(x, y))\n",
    "# 计算平均/中位评分\n",
    "mean_rating = ratings.reduce(lambda x, y: x + y) / float(num_ratings)\n",
    "median_rating = np.median(ratings.collect())\n",
    "# 计算每个观众/每部电影平均打分/被打分次数\n",
    "ratings_per_user = num_ratings / num_users\n",
    "ratings_per_movie = num_ratings / num_movies\n",
    "# 输出结果\n",
    "print(\"最低评分: %d\" % min_rating)\n",
    "print(\"最高评分: %d\" % max_rating)\n",
    "print(\"平均评分: %2.2f\" % mean_rating)\n",
    "print(\"中位评分: %d\" % median_rating)\n",
    "print(\"平均每个用户打分(次数): %2.2f\" % ratings_per_user)\n",
    "print(\"平均每部电影评分(次数): %2.2f\" % ratings_per_movie)"
   ]
  },
  {
   "cell_type": "code",
   "execution_count": 61,
   "metadata": {},
   "outputs": [
    {
     "data": {
      "text/plain": [
       "(count: 100000, mean: 3.5298600000000024, stdev: 1.125667970762251, max: 5.0, min: 1.0)"
      ]
     },
     "execution_count": 61,
     "metadata": {},
     "output_type": "execute_result"
    }
   ],
   "source": [
    "# Spark有个挺实用的统计函数stats可直接获取常用的统计信息，类似R语言的summary函数\n",
    "ratings.stats()"
   ]
  },
  {
   "cell_type": "code",
   "execution_count": 116,
   "metadata": {},
   "outputs": [
    {
     "name": "stdout",
     "output_type": "stream",
     "text": [
      "defaultdict(<class 'int'>, {3: 27145, 1: 6110, 2: 11370, 4: 34174, 5: 21201})\n",
      "[3 1 2 4 5]\n",
      "[27145.  6110. 11370. 34174. 21201.]\n"
     ]
    },
    {
     "data": {
      "text/plain": [
       "(array([0.5, 1.5, 2.5, 3.5, 4.5]), <a list of 5 Text xticklabel objects>)"
      ]
     },
     "execution_count": 116,
     "metadata": {},
     "output_type": "execute_result"
    },
    {
     "data": {
      "image/png": "[encoded data removed]",
      "text/plain": [
       "<Figure size 432x288 with 1 Axes>"
      ]
     },
     "metadata": {
      "needs_background": "light"
     },
     "output_type": "display_data"
    }
   ],
   "source": [
    "#统计评分分布\n",
    "# 生成评分统计RDD，并落地\n",
    "count_by_rating = ratings.countByValue()\n",
    "print(count_by_rating)\n",
    "# 生成x/y坐标轴\n",
    "x_axis = np.array(list(count_by_rating.keys()))\n",
    "print(x_axis)\n",
    "y_axis = np.array([float(c) for c in count_by_rating.values()])\n",
    "print(y_axis)\n",
    "# 对人数做标准化，获取各评分人群的占比\n",
    "y_axis_normed = y_axis / y_axis.sum()\n",
    " \n",
    "# 生成x轴标签\n",
    "pos = np.arange(len(x_axis))\n",
    "width = 1.0\n",
    "ax = plt.axes()\n",
    "ax.set_xticks(pos + (width / 2))\n",
    "ax.set_xticklabels(x_axis)\n",
    " \n",
    "# 绘制评分分布柱状图\n",
    "plt.bar(pos, y_axis_normed, width, color='lightblue')\n",
    "\n",
    "plt.xticks(rotation=30)\n",
    "\n",
    "#这个柱状图要按序排列要用到argsort"
   ]
  },
  {
   "cell_type": "code",
   "execution_count": 103,
   "metadata": {},
   "outputs": [
    {
     "data": {
      "text/plain": [
       "[(196, 39), (186, 92), (22, 128), (244, 238), (166, 20)]"
      ]
     },
     "execution_count": 103,
     "metadata": {},
     "output_type": "execute_result"
    }
   ],
   "source": [
    "# 统计不同用户的评分次数\n",
    "# 首先将数据以用户id为Key分发到各个节点\n",
    "user_ratings_grouped = rating_data.map(lambda fields: (int(fields[0]), int(fields[2]))).groupByKey()\n",
    "# print(user_ratings_grouped.collect())\n",
    "# 结果：[(196, <pyspark.resultiterable.ResultIterable object at 0x7f57d83a9978>), (186, <pyspark.resultiterable.ResultIterable object at 0x7f57d83a9908>)......\n",
    "\n",
    "# 然后统计每个节点元素的个数，也即每个用户的评论次数\n",
    "user_ratings_byuser = user_ratings_grouped.map(lambda f: (f[0], len(f[1])))\n",
    "\n",
    "# 输出前5条记录\n",
    "user_ratings_byuser.take(5)"
   ]
  },
  {
   "cell_type": "code",
   "execution_count": null,
   "metadata": {},
   "outputs": [],
   "source": []
  }
 ],
 "metadata": {
  "kernelspec": {
   "display_name": "Python 3",
   "language": "python",
   "name": "python3"
  },
  "language_info": {
   "codemirror_mode": {
    "name": "ipython",
    "version": 3
   },
   "file_extension": ".py",
   "mimetype": "text/x-python",
   "name": "python",
   "nbconvert_exporter": "python",
   "pygments_lexer": "ipython3",
   "version": "3.6.5"
  }
 },
 "nbformat": 4,
 "nbformat_minor": 2
}
