{
 "cells": [
  {
   "cell_type": "markdown",
   "metadata": {},
   "source": [
    "一个Spark推荐系统引擎的实现\n",
    "https://www.cnblogs.com/muchen/p/6882465.html"
   ]
  },
  {
   "cell_type": "code",
   "execution_count": 1,
   "metadata": {},
   "outputs": [
    {
     "name": "stdout",
     "output_type": "stream",
     "text": [
      "/home/yang0/installer/spark-2.4.3-bin-hadoop2.7\n",
      "Welcome to\n",
      "      ____              __\n",
      "     / __/__  ___ _____/ /__\n",
      "    _\\ \\/ _ \\/ _ `/ __/  '_/\n",
      "   /__ / .__/\\_,_/_/ /_/\\_\\   version 2.4.3\n",
      "      /_/\n",
      "\n",
      "Using Python version 3.6.5 (default, Jul 11 2019 14:32:02)\n",
      "SparkSession available as 'spark'.\n"
     ]
    }
   ],
   "source": [
    "import os\n",
    "import sys\n",
    "spark_home = os.environ.get('SPARK_HOME',None)\n",
    "print(spark_home)\n",
    "sys.path.insert(0,os.path.join(spark_home,'python'))\n",
    "sys.path.insert(0,os.path.join(spark_home,'python/lib/py4j-0.10.4-src.zip'))\n",
    "\n",
    "exec(open(os.path.join(spark_home,'python/pyspark/shell.py')).read())"
   ]
  },
  {
   "cell_type": "code",
   "execution_count": 14,
   "metadata": {},
   "outputs": [
    {
     "data": {
      "text/plain": [
       "Rating(user=196, product=242, rating=3.0)"
      ]
     },
     "execution_count": 14,
     "metadata": {},
     "output_type": "execute_result"
    }
   ],
   "source": [
    "# 载入评级数据\n",
    "rawData = sc.textFile(\"./ml-100k/u.data\")\n",
    "# 展示一条记录\n",
    "# 用户id | 影片id | 评分值 | 时间戳(timestamp格式)\n",
    "rawData.first()  # '196\\t242\\t3\\t881250949'\n",
    "\n",
    "# 格式化数据集\n",
    "rating_data = rawData.map(lambda line: line.split(\"\\t\"))\n",
    "\n",
    "rating_data.first()  #['196', '242', '3', '881250949']\n",
    "\n",
    "# 接下来需要将评分矩阵RDD转化为Rating格式的RDD\n",
    "\n",
    "from pyspark.mllib.recommendation import Rating\n",
    "# 将评分矩阵RDD中每行记录转换为Rating类型\n",
    "# ratings = rating_data.map { case Array(user, movie, rating) => Rating(user.toInt, movie.toInt, rating.toDouble) }\n",
    "ratings = rating_data.map(lambda v: Rating(int(v[0]), int(v[1]), float(v[2])))\n",
    "ratings.first() # Rating(user=196, product=242, rating=3.0)"
   ]
  },
  {
   "cell_type": "markdown",
   "metadata": {},
   "source": [
    "**训练推荐模型**\n",
    "\n",
    "接下来可以进行ALS推荐系统模型训练了。MLlib中的ALS算法接收三个参数：\n",
    "\n",
    "- rank：对应的是隐因子的个数，这个值设置越高越准，但是也会产生更多的计算量。一般将这个值设置为10-200；\n",
    "- iterations：对应迭代次数，一般设置个10就够了；\n",
    "- lambda：该参数控制正则化过程，其值越高，正则化程度就越深。一般设置为0.01。\n",
    "\n",
    "1. 首先，执行以下代码，启动ALS训练："
   ]
  },
  {
   "cell_type": "code",
   "execution_count": 15,
   "metadata": {},
   "outputs": [],
   "source": [
    "# 导入ALS推荐系统算法包\n",
    "from pyspark.mllib.recommendation import ALS\n",
    "\n",
    "# 启动ALS矩阵分解\n",
    "model = ALS.train(ratings, 50, 10, 0.01)\n"
   ]
  },
  {
   "cell_type": "markdown",
   "metadata": {},
   "source": [
    " 这步将会使用ALS矩阵分解算法，对评分矩阵进行分解，且隐特征个数设置为50，迭代10次，正则化参数设为了0.01。\n",
    "\n",
    "相对其他步骤，训练耗费的时间最多。"
   ]
  },
  {
   "cell_type": "code",
   "execution_count": 16,
   "metadata": {},
   "outputs": [
    {
     "name": "stdout",
     "output_type": "stream",
     "text": [
      "<pyspark.mllib.recommendation.MatrixFactorizationModel object at 0x7f98604fa518>\n"
     ]
    }
   ],
   "source": [
    "print(model)"
   ]
  },
  {
   "cell_type": "markdown",
   "metadata": {},
   "source": [
    "返回类型为MatrixFactorizationModel对象，它将结果分别保存到两个(id,factor)RDD里面，分别名为userFeatures和productFeatures。\n",
    "\n",
    "也就是评分矩阵分解后的两个子矩阵"
   ]
  }
 ],
 "metadata": {
  "kernelspec": {
   "display_name": "Python 3",
   "language": "python",
   "name": "python3"
  },
  "language_info": {
   "codemirror_mode": {
    "name": "ipython",
    "version": 3
   },
   "file_extension": ".py",
   "mimetype": "text/x-python",
   "name": "python",
   "nbconvert_exporter": "python",
   "pygments_lexer": "ipython3",
   "version": "3.6.5"
  }
 },
 "nbformat": 4,
 "nbformat_minor": 2
}
