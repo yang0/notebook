{
 "cells": [
  {
   "cell_type": "markdown",
   "metadata": {},
   "source": [
    "推荐引擎召回层需要去重，这里可以用到bloomfilter算法。\n",
    "\n",
    "推荐系统候选池的两种去重策略 https://www.sohu.com/a/231215520_499730\n",
    "BloomFilter(布隆过滤器)原理和python支持库 https://blog.csdn.net/tenliu2099/article/details/78298778\n",
    "\n",
    "python3下的安装包： https://github.com/joseph-fox/python-bloomfilter\n",
    "基于Redis的Bloomfilter去重（附Python代码） https://blog.csdn.net/Bone_ACE/article/details/53107018"
   ]
  },
  {
   "cell_type": "code",
   "execution_count": 2,
   "metadata": {
    "scrolled": true
   },
   "outputs": [
    {
     "name": "stdout",
     "output_type": "stream",
     "text": [
      "Looking in indexes: https://mirrors.aliyun.com/pypi/simple/\n",
      "Collecting pybloom-live\n",
      "  Downloading https://mirrors.aliyun.com/pypi/packages/ea/43/93b606bc267ab48da54b3adcc18c4521ed2526312c7dd37958dde36bb7cc/pybloom_live-3.0.0.tar.gz\n",
      "Collecting bitarray>=0.3.4 (from pybloom-live)\n",
      "  Downloading https://mirrors.aliyun.com/pypi/packages/c7/2a/35d3bd5bffa9e179267318057a12adc41f837310edf043d8e6d939719f95/bitarray-1.0.1.tar.gz\n",
      "Installing collected packages: bitarray, pybloom-live\n",
      "  Running setup.py install for bitarray ... \u001b[?25ldone\n",
      "\u001b[?25h  Running setup.py install for pybloom-live ... \u001b[?25ldone\n",
      "\u001b[?25hSuccessfully installed bitarray-1.0.1 pybloom-live-3.0.0\n"
     ]
    }
   ],
   "source": [
    "!pip install pybloom-live"
   ]
  },
  {
   "cell_type": "code",
   "execution_count": 4,
   "metadata": {},
   "outputs": [
    {
     "data": {
      "text/plain": [
       "[False, False, False, False, False, False, False, False, False, False]"
      ]
     },
     "execution_count": 4,
     "metadata": {},
     "output_type": "execute_result"
    }
   ],
   "source": [
    "import pybloom_live\n",
    "\n",
    "f = pybloom_live.BloomFilter(capacity=1000, error_rate=0.001)\n",
    "[f.add(x) for x in range(10)]"
   ]
  },
  {
   "cell_type": "code",
   "execution_count": 6,
   "metadata": {},
   "outputs": [
    {
     "data": {
      "text/plain": [
       "True"
      ]
     },
     "execution_count": 6,
     "metadata": {},
     "output_type": "execute_result"
    }
   ],
   "source": [
    "all([(x in f) for x in range(10)])"
   ]
  },
  {
   "cell_type": "code",
   "execution_count": 7,
   "metadata": {},
   "outputs": [
    {
     "data": {
      "text/plain": [
       "False"
      ]
     },
     "execution_count": 7,
     "metadata": {},
     "output_type": "execute_result"
    }
   ],
   "source": [
    "10 in f"
   ]
  },
  {
   "cell_type": "code",
   "execution_count": 8,
   "metadata": {},
   "outputs": [
    {
     "data": {
      "text/plain": [
       "True"
      ]
     },
     "execution_count": 8,
     "metadata": {},
     "output_type": "execute_result"
    }
   ],
   "source": [
    "5 in f"
   ]
  },
  {
   "cell_type": "code",
   "execution_count": 10,
   "metadata": {},
   "outputs": [],
   "source": [
    "f = pybloom_live.BloomFilter(capacity=1000, error_rate=0.001)\n",
    "\n",
    "for i in range(0, f.capacity):\n",
    "    _ = f.add(i)"
   ]
  },
  {
   "cell_type": "code",
   "execution_count": 11,
   "metadata": {},
   "outputs": [
    {
     "data": {
      "text/plain": [
       "999"
      ]
     },
     "execution_count": 11,
     "metadata": {},
     "output_type": "execute_result"
    }
   ],
   "source": [
    "len(f)"
   ]
  },
  {
   "cell_type": "code",
   "execution_count": 12,
   "metadata": {},
   "outputs": [],
   "source": [
    "sbf = pybloom_live.ScalableBloomFilter(mode=pybloom_live.ScalableBloomFilter.SMALL_SET_GROWTH)\n",
    "count = 100000\n",
    "for i in range(0, count):\n",
    "    _ = sbf.add(i)"
   ]
  },
  {
   "cell_type": "code",
   "execution_count": null,
   "metadata": {},
   "outputs": [],
   "source": []
  }
 ],
 "metadata": {
  "kernelspec": {
   "display_name": "Python 3",
   "language": "python",
   "name": "python3"
  },
  "language_info": {
   "codemirror_mode": {
    "name": "ipython",
    "version": 3
   },
   "file_extension": ".py",
   "mimetype": "text/x-python",
   "name": "python",
   "nbconvert_exporter": "python",
   "pygments_lexer": "ipython3",
   "version": "3.6.5"
  }
 },
 "nbformat": 4,
 "nbformat_minor": 2
}
