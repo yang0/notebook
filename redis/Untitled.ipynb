{
 "cells": [
  {
   "cell_type": "code",
   "execution_count": 4,
   "metadata": {},
   "outputs": [],
   "source": [
    "import redis\n",
    "\n",
    "pool = redis.ConnectionPool(host='localhost', port=6379,db=1)\n",
    "red = redis.Redis(connection_pool=pool)\n"
   ]
  },
  {
   "cell_type": "code",
   "execution_count": 5,
   "metadata": {},
   "outputs": [
    {
     "data": {
      "text/plain": [
       "b'value1'"
      ]
     },
     "execution_count": 5,
     "metadata": {},
     "output_type": "execute_result"
    }
   ],
   "source": [
    "red.set('key1', 'value1')\n",
    "red.get('key1')"
   ]
  },
  {
   "cell_type": "code",
   "execution_count": 9,
   "metadata": {},
   "outputs": [
    {
     "data": {
      "text/plain": [
       "24999"
      ]
     },
     "execution_count": 9,
     "metadata": {},
     "output_type": "execute_result"
    }
   ],
   "source": [
    "userIds = [id for id in range(1, 25000)]\n",
    "len(userIds)"
   ]
  },
  {
   "cell_type": "code",
   "execution_count": 16,
   "metadata": {},
   "outputs": [
    {
     "data": {
      "text/plain": [
       "24999"
      ]
     },
     "execution_count": 16,
     "metadata": {},
     "output_type": "execute_result"
    }
   ],
   "source": [
    "userKeys = list(map(lambda x: \"u_%d\" % x, userIds)) # map 在 Python 3.x 返回迭代器。\n",
    "len(userKeys)\n"
   ]
  },
  {
   "cell_type": "code",
   "execution_count": 23,
   "metadata": {},
   "outputs": [],
   "source": [
    "# 插入七万条数据, 需要花点时间\n",
    "for id in range(1, 70000):\n",
    "    red.zadd('u_1', id, id)"
   ]
  },
  {
   "cell_type": "code",
   "execution_count": 29,
   "metadata": {},
   "outputs": [
    {
     "data": {
      "text/plain": [
       "[b'u0', b'1', b'2', b'3', b'4', b'5', b'6', b'7', b'8', b'9', b'10']"
      ]
     },
     "execution_count": 29,
     "metadata": {},
     "output_type": "execute_result"
    }
   ],
   "source": [
    "red.zadd('u_1',  'u0', 0)\n",
    "red.zrange('u_1', 0, 10)"
   ]
  },
  {
   "cell_type": "code",
   "execution_count": 30,
   "metadata": {},
   "outputs": [
    {
     "data": {
      "text/plain": [
       "[b'69999',\n",
       " b'69998',\n",
       " b'69997',\n",
       " b'69996',\n",
       " b'69995',\n",
       " b'69994',\n",
       " b'69993',\n",
       " b'69992',\n",
       " b'69991',\n",
       " b'69990',\n",
       " b'69989']"
      ]
     },
     "execution_count": 30,
     "metadata": {},
     "output_type": "execute_result"
    }
   ],
   "source": [
    "# 倒序\n",
    "red.zrevrange('u_1', 0, 10)"
   ]
  },
  {
   "cell_type": "code",
   "execution_count": 34,
   "metadata": {},
   "outputs": [
    {
     "name": "stdout",
     "output_type": "stream",
     "text": [
      "0.11955785751342773\n"
     ]
    }
   ],
   "source": [
    "import time\n",
    "start=time.time()\n",
    "red.zunionstore('u_2', ['u_1','a'])  #a是个根本不存在的key，通过union的方式来完成复制\n",
    "end=time.time()\n",
    "print(end-start)"
   ]
  },
  {
   "cell_type": "markdown",
   "metadata": {},
   "source": [
    "复制七万条数据的速度还是很快的，0.1秒，比插入要快得多"
   ]
  },
  {
   "cell_type": "code",
   "execution_count": 33,
   "metadata": {},
   "outputs": [
    {
     "data": {
      "text/plain": [
       "[b'69999',\n",
       " b'69998',\n",
       " b'69997',\n",
       " b'69996',\n",
       " b'69995',\n",
       " b'69994',\n",
       " b'69993',\n",
       " b'69992',\n",
       " b'69991',\n",
       " b'69990',\n",
       " b'69989']"
      ]
     },
     "execution_count": 33,
     "metadata": {},
     "output_type": "execute_result"
    }
   ],
   "source": [
    "red.zrevrange('u_2', 0, 10)"
   ]
  },
  {
   "cell_type": "code",
   "execution_count": 36,
   "metadata": {},
   "outputs": [
    {
     "name": "stdout",
     "output_type": "stream",
     "text": [
      "4.5618579387664795\n"
     ]
    }
   ],
   "source": [
    "# 插入两万五千条数据，花费4.5秒\n",
    "start=time.time()\n",
    "for id in range(2, 25000):\n",
    "    red.zadd(userKeys[id-1], id, id)\n",
    "end=time.time()\n",
    "print(end-start)"
   ]
  },
  {
   "cell_type": "code",
   "execution_count": null,
   "metadata": {},
   "outputs": [],
   "source": []
  }
 ],
 "metadata": {
  "kernelspec": {
   "display_name": "Python 3",
   "language": "python",
   "name": "python3"
  },
  "language_info": {
   "codemirror_mode": {
    "name": "ipython",
    "version": 3
   },
   "file_extension": ".py",
   "mimetype": "text/x-python",
   "name": "python",
   "nbconvert_exporter": "python",
   "pygments_lexer": "ipython3",
   "version": "3.6.5"
  }
 },
 "nbformat": 4,
 "nbformat_minor": 2
}
