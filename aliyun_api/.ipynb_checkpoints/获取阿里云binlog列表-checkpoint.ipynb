{
 "cells": [
  {
   "cell_type": "markdown",
   "metadata": {},
   "source": [
    "参考文档：\n",
    "https://help.aliyun.com/document_detail/26224.html?spm=a2c4g.11186623.6.1360.4dfc2883bm1uoz\n",
    "https://help.aliyun.com/document_detail/26225.html?spm=a2c4g.11186623.2.11.45f161cabAVcZr#concept-vr2-brn-12b\n",
    "https://help.aliyun.com/document_detail/26291.html \n",
    "    \n",
    "先测试签名\n",
    "再测试下载binlog\n",
    "\n",
    "阿里云pyton sdk： https://helpcdn.aliyun.com/document_detail/100865.html"
   ]
  },
  {
   "cell_type": "code",
   "execution_count": 10,
   "metadata": {
    "scrolled": true
   },
   "outputs": [],
   "source": [
    "from aliyunsdkcore.client import AcsClient\n",
    "from aliyunsdkcore.acs_exception.exceptions import ClientException\n",
    "from aliyunsdkcore.acs_exception.exceptions import ServerException\n",
    "from aliyunsdkrds.request.v20140815.DescribeBinlogFilesRequest import DescribeBinlogFilesRequest\n",
    "\n",
    "\n",
    "\n",
    "client = AcsClient(\n",
    "        \"access_idxxx\",\n",
    "        \"access_keyxxxxx\",\n",
    "        \"cn-hangzhou\"\n",
    "        );\n",
    "\n",
    "\n",
    "request = DescribeBinlogFilesRequest();\n",
    "request.set_DBInstanceId(\"xxxx\")\n",
    "request.set_PageSize(30)\n",
    "request.set_EndTime(\"2019-08-07T15:00:00Z\")\n",
    "request.set_StartTime(\"2019-08-07T00:00:00Z\")\n",
    "request.set_PageNumber(1)\n",
    "\n",
    "response = client.do_action_with_exception(request)\n",
    "\n",
    "print(response)\n",
    "\n",
    "#后面执行wget -c download_url -O targetfileName 就行"
   ]
  },
  {
   "cell_type": "markdown",
   "metadata": {},
   "source": []
  }
 ],
 "metadata": {
  "kernelspec": {
   "display_name": "Python 3",
   "language": "python",
   "name": "python3"
  },
  "language_info": {
   "codemirror_mode": {
    "name": "ipython",
    "version": 3
   },
   "file_extension": ".py",
   "mimetype": "text/x-python",
   "name": "python",
   "nbconvert_exporter": "python",
   "pygments_lexer": "ipython3",
   "version": "3.6.5"
  }
 },
 "nbformat": 4,
 "nbformat_minor": 2
}
