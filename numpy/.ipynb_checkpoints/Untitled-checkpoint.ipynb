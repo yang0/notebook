{
 "cells": [
  {
   "cell_type": "code",
   "execution_count": 6,
   "id": "d7956d09",
   "metadata": {},
   "outputs": [
    {
     "name": "stdout",
     "output_type": "stream",
     "text": [
      "[[1 2 3]\n",
      " [2 3 4]]\n",
      "number of dim: 2\n",
      "shape: (2, 3)\n",
      "size 6\n"
     ]
    }
   ],
   "source": [
    "# 莫凡2.1\n",
    "import numpy as np\n",
    "\n",
    "array = np.array([[1,2,3],\n",
    "[2,3,4]])\n",
    "\n",
    "print(array)\n",
    "# 几维数组\n",
    "print('number of dim:', array.ndim)\n",
    "# shape, 2行，3列\n",
    "print('shape:', array.shape)\n",
    "print('size', array.size)\n"
   ]
  },
  {
   "cell_type": "code",
   "execution_count": 31,
   "id": "b837e501",
   "metadata": {},
   "outputs": [
    {
     "name": "stdout",
     "output_type": "stream",
     "text": [
      "a: [[ 2. 23.  4.]\n",
      " [ 2. 32.  4.]]\n",
      "float64\n",
      "b: [[0. 0. 0. 0.]\n",
      " [0. 0. 0. 0.]\n",
      " [0. 0. 0. 0.]]\n",
      "b: [[1 1 1 1]\n",
      " [1 1 1 1]\n",
      " [1 1 1 1]]\n",
      "c: [[0. 0. 0. 0.]\n",
      " [0. 0. 0. 0.]\n",
      " [0. 0. 0. 0.]]\n",
      "d: [[ 0  1  2  3]\n",
      " [ 4  5  6  7]\n",
      " [ 8  9 10 11]]\n",
      "e: [ 1.    3.25  5.5   7.75 10.  ]\n",
      "e: [[[ 1.   2.8]]\n",
      "\n",
      " [[ 4.6  6.4]]\n",
      "\n",
      " [[ 8.2 10. ]]]\n"
     ]
    }
   ],
   "source": [
    "# 2.2\n",
    "import numpy as np\n",
    "\n",
    "# dtype表示数据type\n",
    "a = np.array([[2,23,4],\n",
    "              [2,32, 4]], dtype=np.float64)\n",
    "print('a:',a)\n",
    "print(a.dtype)\n",
    "\n",
    "# 参数传shape\n",
    "b = np.zeros((3,4))\n",
    "print('b:',b)\n",
    "\n",
    "b = np.ones((3,4), dtype=np.int32)\n",
    "print('b:',b)\n",
    "\n",
    "\n",
    "c = np.empty((3,4))\n",
    "print('c:',c)\n",
    "\n",
    "# 起始10到20，步长2\n",
    "d = np.arange(10,20,2)\n",
    "\n",
    "d = np.arange(12).reshape((3,4))\n",
    "print('d:',d)\n",
    "\n",
    "# 生成1到10，共5段的线段\n",
    "e = np.linspace(1,10,5)\n",
    "print('e:',e)\n",
    "e = np.linspace(1,10,6).reshape((-1,1,2))\n",
    "print('e:',e)\n"
   ]
  }
 ],
 "metadata": {
  "kernelspec": {
   "display_name": "Python 3 (ipykernel)",
   "language": "python",
   "name": "python3"
  },
  "language_info": {
   "codemirror_mode": {
    "name": "ipython",
    "version": 3
   },
   "file_extension": ".py",
   "mimetype": "text/x-python",
   "name": "python",
   "nbconvert_exporter": "python",
   "pygments_lexer": "ipython3",
   "version": "3.9.7"
  }
 },
 "nbformat": 4,
 "nbformat_minor": 5
}
